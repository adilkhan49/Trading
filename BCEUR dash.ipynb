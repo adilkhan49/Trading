{
 "cells": [
  {
   "cell_type": "code",
   "execution_count": 64,
   "metadata": {},
   "outputs": [],
   "source": [
    "import pandas as pd\n",
    "from matplotlib import pyplot as plt"
   ]
  },
  {
   "cell_type": "code",
   "execution_count": 65,
   "metadata": {},
   "outputs": [
    {
     "data": {
      "image/png": "[encoded data removed]",
      "text/plain": [
       "<matplotlib.figure.Figure at 0x10e8f6a90>"
      ]
     },
     "metadata": {},
     "output_type": "display_data"
    }
   ],
   "source": [
    "# Download desired csv from 'http://api.bitcoincharts.com/v1/csv/'\n",
    "\n",
    "# Columns names are time, price, volume. Rename p/v to y to predict.\n",
    "\n",
    "path='http://api.bitcoincharts.com/v1/csv/bcEUR.csv.gz'\n",
    "df = pd.read_csv('bceur.csv', names=['t','p','v'])\n",
    "df['ds']=pd.to_datetime(df['t'],unit='s')\n",
    "# Set the date/time to be the index for the dataframe\n",
    "df=df.drop(df.index[0:2])\n",
    "#df=df.drop(df.index[-2:])\n",
    "df.set_index('ds', inplace=True)\n",
    "\n",
    "#Specify range!\n",
    "\n",
    "df=df[:]\n",
    "\n",
    "#ax = df['y'][:].plot(title=\"Bitcoin daily price EUR\")\n",
    "#ax.yaxis.set_major_formatter(mpl.ticker.StrMethodFormatter('${x:,.0f}'))\n",
    "plt.figure(figsize=(20,10)) \n",
    "plt.plot(df['p'])\n",
    "plt.title('Bitcoin daily price EUR')\n",
    "plt.show()"
   ]
  },
  {
   "cell_type": "code",
   "execution_count": null,
   "metadata": {},
   "outputs": [
    {
     "name": "stderr",
     "output_type": "stream",
     "text": [
      " * Running on http://127.0.0.1:8054/ (Press CTRL+C to quit)\n",
      "127.0.0.1 - - [05/Jun/2018 17:33:13] \"GET / HTTP/1.1\" 200 -\n",
      "127.0.0.1 - - [05/Jun/2018 17:34:31] \"GET /_dash-layout HTTP/1.1\" 200 -\n",
      "127.0.0.1 - - [05/Jun/2018 17:34:31] \"GET /_dash-dependencies HTTP/1.1\" 200 -\n",
      "127.0.0.1 - - [05/Jun/2018 17:34:34] \"POST /_dash-update-component HTTP/1.1\" 200 -\n",
      "127.0.0.1 - - [05/Jun/2018 17:34:36] \"POST /_dash-update-component HTTP/1.1\" 200 -\n",
      "127.0.0.1 - - [05/Jun/2018 17:34:36] \"POST /_dash-update-component HTTP/1.1\" 200 -\n"
     ]
    }
   ],
   "source": [
    "import datetime\n",
    "import dash\n",
    "import dash_core_components as dcc\n",
    "import dash_html_components as html\n",
    "from dash.dependencies import Input, Output\n",
    "\n",
    "def fracDate(year):\n",
    "    return str(int(year))+'-'+str(int((year-int(year))*12)+1)\n",
    "\n",
    "app=dash.Dash()\n",
    "\n",
    "app.layout = html.Div(children=[\n",
    "    html.H1(children='BTC/EUR'),\n",
    "\n",
    "    html.Div(id='time-range'),\n",
    "\n",
    "    dcc.RangeSlider(\n",
    "        id='year-slider',\n",
    "        min=min(df.index).year+(min(df.index).month+1)/12,\n",
    "        max=max(df.index).year+(max(df.index).month+1)/12,\n",
    "        step=0.08,\n",
    "        value = [2015,2016.5]\n",
    "    ),\n",
    "\n",
    "    html.Div(id='output-graph1'),\n",
    "    html.Div(id='output-graph2')\n",
    "])\n",
    "\n",
    "@app.callback(\n",
    "    Output(component_id='time-range', component_property='children'),\n",
    "    [Input(component_id='year-slider', component_property='value')]\n",
    ")\n",
    "def update_time(input_data):\n",
    "\n",
    "    return     html.Div(id='timerange',children='Timerange:\\t'+str(fracDate(input_data[0]))+' - '+ str(fracDate(input_data[1])))\n",
    "\n",
    "@app.callback(\n",
    "    Output(component_id='output-graph1', component_property='children'),\n",
    "    [Input(component_id='year-slider', component_property='value')]\n",
    ")\n",
    "def update_g1(input_data):\n",
    "\n",
    "    return     dcc.Graph(\n",
    "        id='graph1',\n",
    "        figure={\n",
    "            'data': [\n",
    "                {'x':df[fracDate(input_data[0]):fracDate(input_data[1])].index, 'y': df[fracDate(input_data[0]):fracDate(input_data[1])].p, 'type': 'line', 'name': 'volume' },\n",
    "            ],\n",
    "            'layout': {\n",
    "                'title':'Price'\n",
    "            }\n",
    "            \n",
    "        })\n",
    "\n",
    "@app.callback(\n",
    "    Output(component_id='output-graph2', component_property='children'),\n",
    "    [Input(component_id='year-slider', component_property='value')]\n",
    ")\n",
    "def update_g2(input_data):\n",
    "\n",
    "\n",
    "    return     dcc.Graph(\n",
    "        id='graph2',\n",
    "        figure={\n",
    "            'data': [\n",
    "                {'x':df[fracDate(input_data[0]):fracDate(input_data[1])].index, 'y': df[fracDate(input_data[0]):fracDate(input_data[1])].v, 'type': 'line', 'name': 'volume' },\n",
    "            ],\n",
    "            'layout': {\n",
    "                'title':'Volume'\n",
    "            }\n",
    "            \n",
    "        })\n",
    "\n",
    "if __name__ == '__main__':\n",
    "    app.run_server(debug=False, port = 8054)"
   ]
  },
  {
   "cell_type": "code",
   "execution_count": 61,
   "metadata": {},
   "outputs": [
    {
     "data": {
      "text/plain": [
       "2018.5"
      ]
     },
     "execution_count": 61,
     "metadata": {},
     "output_type": "execute_result"
    }
   ],
   "source": [
    "max(df.index).year+(max(df.index).month+1)/12"
   ]
  },
  {
   "cell_type": "code",
   "execution_count": 63,
   "metadata": {},
   "outputs": [
    {
     "data": {
      "text/html": [
       "<div>\n",
       "<style scoped>\n",
       "    .dataframe tbody tr th:only-of-type {\n",
       "        vertical-align: middle;\n",
       "    }\n",
       "\n",
       "    .dataframe tbody tr th {\n",
       "        vertical-align: top;\n",
       "    }\n",
       "\n",
       "    .dataframe thead th {\n",
       "        text-align: right;\n",
       "    }\n",
       "</style>\n",
       "<table border=\"1\" class=\"dataframe\">\n",
       "  <thead>\n",
       "    <tr style=\"text-align: right;\">\n",
       "      <th></th>\n",
       "      <th>t</th>\n",
       "      <th>p</th>\n",
       "      <th>v</th>\n",
       "    </tr>\n",
       "    <tr>\n",
       "      <th>ds</th>\n",
       "      <th></th>\n",
       "      <th></th>\n",
       "      <th></th>\n",
       "    </tr>\n",
       "  </thead>\n",
       "  <tbody>\n",
       "    <tr>\n",
       "      <th>2018-05-31 15:45:56</th>\n",
       "      <td>1527781556</td>\n",
       "      <td>6425.02</td>\n",
       "      <td>0.159001</td>\n",
       "    </tr>\n",
       "    <tr>\n",
       "      <th>2018-05-31 15:48:47</th>\n",
       "      <td>1527781727</td>\n",
       "      <td>6490.00</td>\n",
       "      <td>0.000023</td>\n",
       "    </tr>\n",
       "    <tr>\n",
       "      <th>2018-05-31 15:48:48</th>\n",
       "      <td>1527781728</td>\n",
       "      <td>6521.71</td>\n",
       "      <td>0.022977</td>\n",
       "    </tr>\n",
       "    <tr>\n",
       "      <th>2018-05-31 16:20:32</th>\n",
       "      <td>1527783632</td>\n",
       "      <td>6523.28</td>\n",
       "      <td>0.015330</td>\n",
       "    </tr>\n",
       "    <tr>\n",
       "      <th>2018-05-31 16:40:40</th>\n",
       "      <td>1527784840</td>\n",
       "      <td>6500.00</td>\n",
       "      <td>0.030000</td>\n",
       "    </tr>\n",
       "  </tbody>\n",
       "</table>\n",
       "</div>"
      ],
      "text/plain": [
       "                              t        p         v\n",
       "ds                                                \n",
       "2018-05-31 15:45:56  1527781556  6425.02  0.159001\n",
       "2018-05-31 15:48:47  1527781727  6490.00  0.000023\n",
       "2018-05-31 15:48:48  1527781728  6521.71  0.022977\n",
       "2018-05-31 16:20:32  1527783632  6523.28  0.015330\n",
       "2018-05-31 16:40:40  1527784840  6500.00  0.030000"
      ]
     },
     "execution_count": 63,
     "metadata": {},
     "output_type": "execute_result"
    }
   ],
   "source": [
    "df.tail()"
   ]
  },
  {
   "cell_type": "code",
   "execution_count": null,
   "metadata": {},
   "outputs": [],
   "source": []
  }
 ],
 "metadata": {
  "kernelspec": {
   "display_name": "Python 3",
   "language": "python",
   "name": "python3"
  },
  "language_info": {
   "codemirror_mode": {
    "name": "ipython",
    "version": 3
   },
   "file_extension": ".py",
   "mimetype": "text/x-python",
   "name": "python",
   "nbconvert_exporter": "python",
   "pygments_lexer": "ipython3",
   "version": "3.6.4"
  }
 },
 "nbformat": 4,
 "nbformat_minor": 2
}
